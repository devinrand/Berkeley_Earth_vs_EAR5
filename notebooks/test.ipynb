{
 "cells": [
  {
   "cell_type": "code",
   "execution_count": 4,
   "id": "a117a72d",
   "metadata": {},
   "outputs": [
    {
     "ename": "ImportError",
     "evalue": "cannot import name 'TemperatureDataset' from 'scripts.TemperatureDataset' (/main/Users/devin/Documents/temperature-comparison/scripts/TemperatureDataset.py)",
     "output_type": "error",
     "traceback": [
      "\u001b[31m---------------------------------------------------------------------------\u001b[39m",
      "\u001b[31mImportError\u001b[39m                               Traceback (most recent call last)",
      "\u001b[36mCell\u001b[39m\u001b[36m \u001b[39m\u001b[32mIn[4]\u001b[39m\u001b[32m, line 19\u001b[39m\n\u001b[32m     17\u001b[39m sys.path.insert(\u001b[32m0\u001b[39m, \u001b[38;5;28mstr\u001b[39m(project_root))\n\u001b[32m     18\u001b[39m \u001b[38;5;28;01mfrom\u001b[39;00m\u001b[38;5;250m \u001b[39m\u001b[34;01msrc\u001b[39;00m\u001b[34;01m.\u001b[39;00m\u001b[34;01mdata_loading\u001b[39;00m\u001b[34;01m.\u001b[39;00m\u001b[34;01msimple_loader\u001b[39;00m\u001b[38;5;250m \u001b[39m\u001b[38;5;28;01mimport\u001b[39;00m load_processed_berkeley_earth, load_processed_era5, load_config, load_processed_elevation_data, load_processed_station_density_data\n\u001b[32m---> \u001b[39m\u001b[32m19\u001b[39m \u001b[38;5;28;01mfrom\u001b[39;00m\u001b[38;5;250m \u001b[39m\u001b[34;01mscripts\u001b[39;00m\u001b[34;01m.\u001b[39;00m\u001b[34;01mTemperatureDataset\u001b[39;00m\u001b[38;5;250m \u001b[39m\u001b[38;5;28;01mimport\u001b[39;00m TemperatureDataset\n",
      "\u001b[31mImportError\u001b[39m: cannot import name 'TemperatureDataset' from 'scripts.TemperatureDataset' (/main/Users/devin/Documents/temperature-comparison/scripts/TemperatureDataset.py)"
     ]
    }
   ],
   "source": [
    "import gstools as gs\n",
    "import numpy as np\n",
    "import pandas as pd\n",
    "import xarray as xr\n",
    "from pathlib import Path\n",
    "import matplotlib.pyplot as plt\n",
    "import cartopy.crs as ccrs\n",
    "import cartopy.feature as cfeature\n",
    "from scipy import stats\n",
    "from scipy.spatial.distance import cdist\n",
    "import yaml\n",
    "import sys\n",
    "import os\n",
    "\n",
    "# Dynamically determine the project root directory\n",
    "project_root = Path(os.getcwd()).parent\n",
    "sys.path.insert(0, str(project_root))\n",
    "from src.data_loading.simple_loader import load_processed_berkeley_earth, load_processed_era5, load_config, load_processed_elevation_data, load_processed_station_density_data\n",
    "from scripts.TemperatureDataset import TemperatureDataset"
   ]
  },
  {
   "cell_type": "code",
   "execution_count": null,
   "id": "93ece7e3",
   "metadata": {},
   "outputs": [
    {
     "data": {
      "text/plain": [
       "PosixPath('/main/Users/devin/Documents/temperature-comparison')"
      ]
     },
     "execution_count": 3,
     "metadata": {},
     "output_type": "execute_result"
    }
   ],
   "source": [
    "project_root"
   ]
  },
  {
   "cell_type": "code",
   "execution_count": 6,
   "id": "062078af",
   "metadata": {},
   "outputs": [],
   "source": [
    "sys.path.insert(0, str(project_root))"
   ]
  }
 ],
 "metadata": {
  "kernelspec": {
   "display_name": "temp-comparison",
   "language": "python",
   "name": "python3"
  },
  "language_info": {
   "codemirror_mode": {
    "name": "ipython",
    "version": 3
   },
   "file_extension": ".py",
   "mimetype": "text/x-python",
   "name": "python",
   "nbconvert_exporter": "python",
   "pygments_lexer": "ipython3",
   "version": "3.12.11"
  }
 },
 "nbformat": 4,
 "nbformat_minor": 5
}
